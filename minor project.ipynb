{
 "cells": [
  {
   "cell_type": "code",
   "execution_count": 1,
   "id": "1b318ee5-7707-444a-86fd-73717af12cfc",
   "metadata": {},
   "outputs": [
    {
     "ename": "ModuleNotFoundError",
     "evalue": "No module named 'pandas'",
     "output_type": "error",
     "traceback": [
      "\u001b[1;31m---------------------------------------------------------------------------\u001b[0m",
      "\u001b[1;31mModuleNotFoundError\u001b[0m                       Traceback (most recent call last)",
      "Cell \u001b[1;32mIn[1], line 1\u001b[0m\n\u001b[1;32m----> 1\u001b[0m \u001b[38;5;28;01mimport\u001b[39;00m \u001b[38;5;21;01mpandas\u001b[39;00m \u001b[38;5;28;01mas\u001b[39;00m \u001b[38;5;21;01mpd\u001b[39;00m\n\u001b[0;32m      2\u001b[0m \u001b[38;5;28;01mfrom\u001b[39;00m \u001b[38;5;21;01mtransformers\u001b[39;00m \u001b[38;5;28;01mimport\u001b[39;00m BertTokenizer\n\u001b[0;32m      3\u001b[0m \u001b[38;5;28;01mfrom\u001b[39;00m \u001b[38;5;21;01msklearn\u001b[39;00m\u001b[38;5;21;01m.\u001b[39;00m\u001b[38;5;21;01mmodel_selection\u001b[39;00m \u001b[38;5;28;01mimport\u001b[39;00m train_test_split\n",
      "\u001b[1;31mModuleNotFoundError\u001b[0m: No module named 'pandas'"
     ]
    }
   ],
   "source": [
    "import pandas as pd\n",
    "from transformers import BertTokenizer\n",
    "from sklearn.model_selection import train_test_split\n",
    "import torch\n",
    "\n",
    "# Load dataset\n",
    "df = pd.read_csv('sentiment140.csv', encoding='ISO-8859-1', header=None)\n",
    "df.columns = ['target', 'id', 'date', 'flag', 'user', 'text']\n",
    "\n",
    "# Simplify target labels (0 = negative, 4 = positive)\n",
    "df['target'] = df['target'].apply(lambda x: 1 if x == 4 else 0)\n",
    "\n",
    "# Tokenizer\n",
    "tokenizer = BertTokenizer.from_pretrained('bert-base-uncased')\n",
    "\n",
    "# Tokenize the text data\n",
    "def tokenize_tweets(tweets, tokenizer, max_length=128):\n",
    "    return tokenizer(\n",
    "        tweets.tolist(),\n",
    "        padding=True,\n",
    "        truncation=True,\n",
    "        max_length=max_length,\n",
    "        return_tensors=\"pt\"\n",
    "    )\n",
    "\n",
    "tokens = tokenize_tweets(df['text'], tokenizer)\n",
    "\n",
    "# Split the data\n",
    "train_inputs, val_inputs, train_labels, val_labels = train_test_split(\n",
    "    tokens['input_ids'], df['target'], test_size=0.2, random_state=42\n",
    ")\n"
   ]
  },
  {
   "cell_type": "code",
   "execution_count": 2,
   "id": "71f7c122-b209-4797-89f7-9cfb629ac2bf",
   "metadata": {},
   "outputs": [
    {
     "name": "stdout",
     "output_type": "stream",
     "text": [
      "Collecting pandas\n",
      "  Downloading pandas-2.2.2-cp312-cp312-win_amd64.whl.metadata (19 kB)\n",
      "Requirement already satisfied: numpy>=1.26.0 in c:\\python312\\lib\\site-packages (from pandas) (1.26.4)\n",
      "Requirement already satisfied: python-dateutil>=2.8.2 in c:\\python312\\lib\\site-packages (from pandas) (2.8.2)\n",
      "Collecting pytz>=2020.1 (from pandas)\n",
      "  Downloading pytz-2024.1-py2.py3-none-any.whl.metadata (22 kB)\n",
      "Collecting tzdata>=2022.7 (from pandas)\n",
      "  Downloading tzdata-2024.1-py2.py3-none-any.whl.metadata (1.4 kB)\n",
      "Requirement already satisfied: six>=1.5 in c:\\python312\\lib\\site-packages (from python-dateutil>=2.8.2->pandas) (1.16.0)\n",
      "Downloading pandas-2.2.2-cp312-cp312-win_amd64.whl (11.5 MB)\n",
      "   ---------------------------------------- 0.0/11.5 MB ? eta -:--:--\n",
      "    --------------------------------------- 0.3/11.5 MB ? eta -:--:--\n",
      "   -- ------------------------------------- 0.8/11.5 MB 2.4 MB/s eta 0:00:05\n",
      "   ----- ---------------------------------- 1.6/11.5 MB 2.7 MB/s eta 0:00:04\n",
      "   ------- -------------------------------- 2.1/11.5 MB 2.7 MB/s eta 0:00:04\n",
      "   --------- ------------------------------ 2.6/11.5 MB 2.7 MB/s eta 0:00:04\n",
      "   ---------- ----------------------------- 3.1/11.5 MB 2.8 MB/s eta 0:00:03\n",
      "   ------------ --------------------------- 3.7/11.5 MB 2.6 MB/s eta 0:00:04\n",
      "   ------------- -------------------------- 3.9/11.5 MB 2.5 MB/s eta 0:00:03\n",
      "   --------------- ------------------------ 4.5/11.5 MB 2.4 MB/s eta 0:00:03\n",
      "   ----------------- ---------------------- 5.0/11.5 MB 2.5 MB/s eta 0:00:03\n",
      "   ------------------- -------------------- 5.5/11.5 MB 2.5 MB/s eta 0:00:03\n",
      "   -------------------- ------------------- 6.0/11.5 MB 2.5 MB/s eta 0:00:03\n",
      "   ---------------------- ----------------- 6.6/11.5 MB 2.5 MB/s eta 0:00:02\n",
      "   ------------------------- -------------- 7.3/11.5 MB 2.5 MB/s eta 0:00:02\n",
      "   --------------------------- ------------ 7.9/11.5 MB 2.5 MB/s eta 0:00:02\n",
      "   ---------------------------- ----------- 8.1/11.5 MB 2.5 MB/s eta 0:00:02\n",
      "   ------------------------------- -------- 8.9/11.5 MB 2.5 MB/s eta 0:00:02\n",
      "   -------------------------------- ------- 9.4/11.5 MB 2.5 MB/s eta 0:00:01\n",
      "   ---------------------------------- ----- 10.0/11.5 MB 2.6 MB/s eta 0:00:01\n",
      "   ----------------------------------- ---- 10.2/11.5 MB 2.5 MB/s eta 0:00:01\n",
      "   ------------------------------------- -- 10.7/11.5 MB 2.5 MB/s eta 0:00:01\n",
      "   ---------------------------------------  11.3/11.5 MB 2.5 MB/s eta 0:00:01\n",
      "   ---------------------------------------- 11.5/11.5 MB 2.5 MB/s eta 0:00:00\n",
      "Downloading pytz-2024.1-py2.py3-none-any.whl (505 kB)\n",
      "Downloading tzdata-2024.1-py2.py3-none-any.whl (345 kB)\n",
      "Installing collected packages: pytz, tzdata, pandas\n",
      "Successfully installed pandas-2.2.2 pytz-2024.1 tzdata-2024.1\n",
      "Note: you may need to restart the kernel to use updated packages.\n"
     ]
    }
   ],
   "source": [
    "pip install pandas"
   ]
  },
  {
   "cell_type": "code",
   "execution_count": 3,
   "id": "a0f4a46b-b93c-4661-8f16-be2fd085c823",
   "metadata": {},
   "outputs": [
    {
     "ename": "ModuleNotFoundError",
     "evalue": "No module named 'sklearn'",
     "output_type": "error",
     "traceback": [
      "\u001b[1;31m---------------------------------------------------------------------------\u001b[0m",
      "\u001b[1;31mModuleNotFoundError\u001b[0m                       Traceback (most recent call last)",
      "Cell \u001b[1;32mIn[3], line 3\u001b[0m\n\u001b[0;32m      1\u001b[0m \u001b[38;5;28;01mimport\u001b[39;00m \u001b[38;5;21;01mpandas\u001b[39;00m \u001b[38;5;28;01mas\u001b[39;00m \u001b[38;5;21;01mpd\u001b[39;00m\n\u001b[0;32m      2\u001b[0m \u001b[38;5;28;01mfrom\u001b[39;00m \u001b[38;5;21;01mtransformers\u001b[39;00m \u001b[38;5;28;01mimport\u001b[39;00m BertTokenizer\n\u001b[1;32m----> 3\u001b[0m \u001b[38;5;28;01mfrom\u001b[39;00m \u001b[38;5;21;01msklearn\u001b[39;00m\u001b[38;5;21;01m.\u001b[39;00m\u001b[38;5;21;01mmodel_selection\u001b[39;00m \u001b[38;5;28;01mimport\u001b[39;00m train_test_split\n\u001b[0;32m      4\u001b[0m \u001b[38;5;28;01mimport\u001b[39;00m \u001b[38;5;21;01mtorch\u001b[39;00m\n\u001b[0;32m      6\u001b[0m \u001b[38;5;66;03m# Load dataset\u001b[39;00m\n",
      "\u001b[1;31mModuleNotFoundError\u001b[0m: No module named 'sklearn'"
     ]
    }
   ],
   "source": [
    "import pandas as pd\n",
    "from transformers import BertTokenizer\n",
    "from sklearn.model_selection import train_test_split\n",
    "import torch\n",
    "\n",
    "# Load dataset\n",
    "df = pd.read_csv('sentiment140.csv', encoding='ISO-8859-1', header=None)\n",
    "df.columns = ['target', 'id', 'date', 'flag', 'user', 'text']\n",
    "\n",
    "# Simplify target labels (0 = negative, 4 = positive)\n",
    "df['target'] = df['target'].apply(lambda x: 1 if x == 4 else 0)\n",
    "\n",
    "# Tokenizer\n",
    "tokenizer = BertTokenizer.from_pretrained('bert-base-uncased')\n",
    "\n",
    "# Tokenize the text data\n",
    "def tokenize_tweets(tweets, tokenizer, max_length=128):\n",
    "    return tokenizer(\n",
    "        tweets.tolist(),\n",
    "        padding=True,\n",
    "        truncation=True,\n",
    "        max_length=max_length,\n",
    "        return_tensors=\"pt\"\n",
    "    )\n",
    "\n",
    "tokens = tokenize_tweets(df['text'], tokenizer)\n",
    "\n",
    "# Split the data\n",
    "train_inputs, val_inputs, train_labels, val_labels = train_test_split(\n",
    "    tokens['input_ids'], df['target'], test_size=0.2, random_state=42\n",
    ")\n"
   ]
  },
  {
   "cell_type": "code",
   "execution_count": null,
   "id": "400ebaf0-4328-4509-82ac-cb00087a3fd5",
   "metadata": {},
   "outputs": [],
   "source": []
  }
 ],
 "metadata": {
  "kernelspec": {
   "display_name": "Python 3 (ipykernel)",
   "language": "python",
   "name": "python3"
  },
  "language_info": {
   "codemirror_mode": {
    "name": "ipython",
    "version": 3
   },
   "file_extension": ".py",
   "mimetype": "text/x-python",
   "name": "python",
   "nbconvert_exporter": "python",
   "pygments_lexer": "ipython3",
   "version": "3.12.1"
  }
 },
 "nbformat": 4,
 "nbformat_minor": 5
}
